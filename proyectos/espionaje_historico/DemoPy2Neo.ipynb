{
 "metadata": {
  "name": "",
  "signature": "sha256:3b43d798e1b0ac77b78e4a4ae67977f69cdfd901639bd4f7c74f5578025a6922"
 },
 "nbformat": 3,
 "nbformat_minor": 0,
 "worksheets": [
  {
   "cells": [
    {
     "cell_type": "markdown",
     "metadata": {},
     "source": [
      "#\u00bfPorqu\u00e9 `py2neo`?\n",
      "_Espionaje hist\u00f3rico_ requiere manipulaciones de strings y joins sobre los datos de _DBpedia_ que son f\u00e1ciles de hacer con m\u00e9todos de `python`. La librer\u00eda `py2neo` permite cerrar el c\u00edrculo con `neo4j` ya que brinda acceso a la base de datos gr\u00e1fica por medio de procesos batch ejecutables desde `python`. A continuaci\u00f3n una demostraci\u00f3n:\n",
      "\n",
      "**Nota:**  para correr la demo con una base vac\u00eda, en la consola de [`neo4j`](http://localhost:7474/webadmin/#) hay que correr el shell script `DELDBNEO4J.sh` elaborado por Gabriel del Campo. Hay otras opciones para limpiar la base pero necesariamente se deshacen de las relaciones correctamente:\n",
      "\n",
      "`MATCH (n)`\n",
      "`OPTIONAL MATCH (n)-[r]-()`\n",
      "`DELETE n,r;`\n",
      "\n",
      "Luego de ejecutar el siguiente segmento de abajo en `python`, en el data browser de `neo4j` hay que ingresar el query:\n",
      "\n",
      "`START n=node(*) MATCH (n)-[r]->(m) RETURN n, r, m;`"
     ]
    },
    {
     "cell_type": "code",
     "collapsed": false,
     "input": [
      "from py2neo import neo4j, node, rel\n",
      "\n",
      "gdb = neo4j.GraphDatabaseService()\n",
      "batch = neo4j.WriteBatch(gdb)\n",
      "\n",
      "for i in range(0,25):\n",
      "#    batch.get_or_create_indexed_node(i,'item',i,{'item':i})\n",
      "    batch.create({'Sujeto':'nombre de sujeto ' + str(i), \n",
      "                  'Atributo1':'atributo 1 de sujeto' + str(i)})\n",
      "    batch.create((i, \"knows\", 24-i, {'since':2014}))\n",
      "\n",
      "results = batch.submit()"
     ],
     "language": "python",
     "metadata": {},
     "outputs": [],
     "prompt_number": 4
    },
    {
     "cell_type": "markdown",
     "metadata": {},
     "source": [
      "El indexamiento de los nodos se puede complicar en el caso de DBpedia debido al volumen de informaci\u00f3n, la recurrencia de nodos, etc. El siguiente es un ejemplo un poco m\u00e1s elaborado donde se parte de una serie aleatoria de relaciones que luego se convierte en una red.  "
     ]
    },
    {
     "cell_type": "code",
     "collapsed": false,
     "input": [
      "import pandas as pd\n",
      "import numpy as np\n",
      "from string import ascii_lowercase\n",
      "from py2neo import neo4j, node, rel\n",
      "\n",
      "gdb = neo4j.GraphDatabaseService()\n",
      "batch = neo4j.WriteBatch(gdb)\n",
      "\n",
      "#print len(ascii_lowercase)\n",
      "#print ascii_lowercase[25]\n",
      "\n",
      "abc = ascii_lowercase\n",
      "\n",
      "rels = ['rel1', 'rel2', 'rel3']"
     ],
     "language": "python",
     "metadata": {},
     "outputs": [],
     "prompt_number": 95
    },
    {
     "cell_type": "code",
     "collapsed": false,
     "input": [
      "gdb"
     ],
     "language": "python",
     "metadata": {},
     "outputs": [
      {
       "metadata": {},
       "output_type": "pyout",
       "prompt_number": 108,
       "text": [
        "Resource(u'http://localhost:7474/db/data/')"
       ]
      }
     ],
     "prompt_number": 108
    },
    {
     "cell_type": "markdown",
     "metadata": {},
     "source": [
      "En este `for` se escribe el batch para los nodos:"
     ]
    },
    {
     "cell_type": "code",
     "collapsed": false,
     "input": [
      "for i in range(0, 25):\n",
      "    batch.create({'item':abc[i]})\n",
      "\n",
      "results = batch.submit()"
     ],
     "language": "python",
     "metadata": {},
     "outputs": [],
     "prompt_number": 96
    },
    {
     "cell_type": "code",
     "collapsed": false,
     "input": [
      "print results"
     ],
     "language": "python",
     "metadata": {},
     "outputs": [
      {
       "output_type": "stream",
       "stream": "stdout",
       "text": [
        "[Node('http://localhost:7474/db/data/node/0'), Node('http://localhost:7474/db/data/node/1'), Node('http://localhost:7474/db/data/node/2'), Node('http://localhost:7474/db/data/node/3'), Node('http://localhost:7474/db/data/node/4'), Node('http://localhost:7474/db/data/node/5'), Node('http://localhost:7474/db/data/node/6'), Node('http://localhost:7474/db/data/node/7'), Node('http://localhost:7474/db/data/node/8'), Node('http://localhost:7474/db/data/node/9'), Node('http://localhost:7474/db/data/node/10'), Node('http://localhost:7474/db/data/node/11'), Node('http://localhost:7474/db/data/node/12'), Node('http://localhost:7474/db/data/node/13'), Node('http://localhost:7474/db/data/node/14'), Node('http://localhost:7474/db/data/node/15'), Node('http://localhost:7474/db/data/node/16'), Node('http://localhost:7474/db/data/node/17'), Node('http://localhost:7474/db/data/node/18'), Node('http://localhost:7474/db/data/node/19'), Node('http://localhost:7474/db/data/node/20'), Node('http://localhost:7474/db/data/node/21'), Node('http://localhost:7474/db/data/node/22'), Node('http://localhost:7474/db/data/node/23'), Node('http://localhost:7474/db/data/node/24')]\n"
       ]
      }
     ],
     "prompt_number": 102
    },
    {
     "cell_type": "markdown",
     "metadata": {},
     "source": [
      "Una forma directa de poblar es mediante un `for`, como en la siguiente secci\u00f3n. Esto funciona sin problema:"
     ]
    },
    {
     "cell_type": "code",
     "collapsed": false,
     "input": [
      "for i in range(0, 15):\n",
      "    rnd_x = np.random.randint(0,25)\n",
      "    rnd_y = np.random.randint(0,25)\n",
      "    rnd_z = np.random.randint(0,2)\n",
      "    print 'Crear relaci\u00f3n '+ rels[rnd_z] +' de ' + str(rnd_x) + ' a ' + str(rnd_y)\n",
      "    batch.create((rnd_x, rels[rnd_z], rnd_y))"
     ],
     "language": "python",
     "metadata": {},
     "outputs": [
      {
       "output_type": "stream",
       "stream": "stdout",
       "text": [
        "Crear relaci\u00f3n rel1 de 15 a 19\n",
        "Crear relaci\u00f3n rel1 de 18 a 12\n",
        "Crear relaci\u00f3n rel2 de 4 a 6\n",
        "Crear relaci\u00f3n rel1 de 24 a 13\n",
        "Crear relaci\u00f3n rel2 de 1 a 22\n",
        "Crear relaci\u00f3n rel1 de 19 a 8\n",
        "Crear relaci\u00f3n rel2 de 16 a 6\n",
        "Crear relaci\u00f3n rel1 de 0 a 12\n",
        "Crear relaci\u00f3n rel2 de 0 a 5\n",
        "Crear relaci\u00f3n rel1 de 13 a 7\n",
        "Crear relaci\u00f3n rel1 de 10 a 24\n",
        "Crear relaci\u00f3n rel1 de 21 a 13\n",
        "Crear relaci\u00f3n rel2 de 13 a 7\n",
        "Crear relaci\u00f3n rel2 de 24 a 20\n",
        "Crear relaci\u00f3n rel1 de 22 a 10\n"
       ]
      }
     ],
     "prompt_number": 5
    },
    {
     "cell_type": "markdown",
     "metadata": {},
     "source": [
      "Con las secciones anteriores se resuelve la creaci\u00f3n de nodos y relaciones. Sin embargo, este resultado no parece ser extrapolable al caso de DBpedia donde las relaciones provienen de un dataframe de pandas y la creaci\u00f3n del batch levanta el error `JSON object could not be decoded`."
     ]
    },
    {
     "cell_type": "code",
     "collapsed": false,
     "input": [
      "x = pd.Series(np.random.randint(0, 25, 12))\n",
      "y = pd.Series(np.random.randint(0, 25, 12))\n",
      "r = [ rels[i] for i in np.random.randint(0, 3, 12) ]\n",
      "\n",
      "rdf = pd.DataFrame(dict(item_x = x, relship = r, item_y = y))\n",
      "rdf.head()"
     ],
     "language": "python",
     "metadata": {},
     "outputs": [
      {
       "html": [
        "<div style=\"max-height:1000px;max-width:1500px;overflow:auto;\">\n",
        "<table border=\"1\" class=\"dataframe\">\n",
        "  <thead>\n",
        "    <tr style=\"text-align: right;\">\n",
        "      <th></th>\n",
        "      <th>item_x</th>\n",
        "      <th>item_y</th>\n",
        "      <th>relship</th>\n",
        "    </tr>\n",
        "  </thead>\n",
        "  <tbody>\n",
        "    <tr>\n",
        "      <th>0</th>\n",
        "      <td> 10</td>\n",
        "      <td> 16</td>\n",
        "      <td> rel2</td>\n",
        "    </tr>\n",
        "    <tr>\n",
        "      <th>1</th>\n",
        "      <td>  4</td>\n",
        "      <td>  6</td>\n",
        "      <td> rel3</td>\n",
        "    </tr>\n",
        "    <tr>\n",
        "      <th>2</th>\n",
        "      <td>  7</td>\n",
        "      <td> 12</td>\n",
        "      <td> rel2</td>\n",
        "    </tr>\n",
        "    <tr>\n",
        "      <th>3</th>\n",
        "      <td>  2</td>\n",
        "      <td>  0</td>\n",
        "      <td> rel2</td>\n",
        "    </tr>\n",
        "    <tr>\n",
        "      <th>4</th>\n",
        "      <td>  3</td>\n",
        "      <td> 24</td>\n",
        "      <td> rel3</td>\n",
        "    </tr>\n",
        "  </tbody>\n",
        "</table>\n",
        "<p>5 rows \u00d7 3 columns</p>\n",
        "</div>"
       ],
       "metadata": {},
       "output_type": "pyout",
       "prompt_number": 97,
       "text": [
        "   item_x  item_y relship\n",
        "0      10      16    rel2\n",
        "1       4       6    rel3\n",
        "2       7      12    rel2\n",
        "3       2       0    rel2\n",
        "4       3      24    rel3\n",
        "\n",
        "[5 rows x 3 columns]"
       ]
      }
     ],
     "prompt_number": 97
    },
    {
     "cell_type": "markdown",
     "metadata": {},
     "source": [
      "Sin recurrir al m\u00e9todo batch de creaci\u00f3n de relaciones, se demuestra a continuaci\u00f3n c\u00f3mo generar estas a traves de los _URIs_ de los nodos."
     ]
    },
    {
     "cell_type": "code",
     "collapsed": false,
     "input": [
      "for index, row in rdf.iterrows():\n",
      "    print 'Crear relaci\u00f3n '+ row['relship'] +' de ' + abc[row['item_x']] + ' a ' + abc[row['item_y']]\n",
      "    gdb.create(rel( gdb.node(row['item_x']), row['relship'], gdb.node(row['item_y'])))"
     ],
     "language": "python",
     "metadata": {},
     "outputs": [
      {
       "output_type": "stream",
       "stream": "stdout",
       "text": [
        "Crear relaci\u00f3n rel2 de k a q\n",
        "Crear relaci\u00f3n rel3 de e a g"
       ]
      },
      {
       "output_type": "stream",
       "stream": "stdout",
       "text": [
        "\n",
        "Crear relaci\u00f3n rel2 de h a m\n",
        "Crear relaci\u00f3n rel2 de c a a\n",
        "Crear relaci\u00f3n rel3 de d a y\n",
        "Crear relaci\u00f3n rel1 de b a e"
       ]
      },
      {
       "output_type": "stream",
       "stream": "stdout",
       "text": [
        "\n",
        "Crear relaci\u00f3n rel3 de g a u\n",
        "Crear relaci\u00f3n rel2 de i a b\n",
        "Crear relaci\u00f3n rel3 de a a s\n",
        "Crear relaci\u00f3n rel3 de p a b"
       ]
      },
      {
       "output_type": "stream",
       "stream": "stdout",
       "text": [
        "\n",
        "Crear relaci\u00f3n rel3 de n a x\n",
        "Crear relaci\u00f3n rel2 de j a h\n"
       ]
      }
     ],
     "prompt_number": 114
    }
   ],
   "metadata": {}
  }
 ]
}