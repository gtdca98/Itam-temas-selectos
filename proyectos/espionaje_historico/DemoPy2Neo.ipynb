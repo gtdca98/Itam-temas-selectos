{
 "metadata": {
  "name": ""
 },
 "nbformat": 3,
 "nbformat_minor": 0,
 "worksheets": [
  {
   "cells": [
    {
     "cell_type": "markdown",
     "metadata": {},
     "source": [
      "#\u00bfPorqu\u00e9 `py2neo`?\n",
      "_Espionaje hist\u00f3rico_ requiere manipulaciones de strings y joins sobre los datos de _DBpedia_ que son f\u00e1ciles de hacer con m\u00e9todos de `python`. La librer\u00eda `py2neo` permite cerrar el c\u00edrculo con `neo4j` ya que brinda acceso a la base de datos gr\u00e1fica por medio de procesos batch ejecutables desde `python`. A continuaci\u00f3n una demostraci\u00f3n:\n",
      "\n",
      "**Nota:**  para correr la demo con una base vac\u00eda, en la consola de [`neo4j`](http://localhost:7474/webadmin/#) hay que correr:\n",
      "\n",
      "`MATCH (n)`\n",
      "`OPTIONAL MATCH (n)-[r]-()`\n",
      "`DELETE n,r;`\n",
      "\n",
      "Luego de ejecutar el siguiente segmento de abajo en `python`, en el data browser de `neo4j` hay que ingresar el query:\n",
      "\n",
      "`START n=node(*) MATCH (n)-[r]->(m) RETURN n,r,m;`"
     ]
    },
    {
     "cell_type": "code",
     "collapsed": false,
     "input": [
      "from py2neo import neo4j, rel\n",
      "\n",
      "gdb = neo4j.GraphDatabaseService()\n",
      "batch = neo4j.WriteBatch(gdb)\n",
      "\n",
      "for i in range(0,25):\n",
      "    batch.get_or_create_indexed_node(i,'item',i,{'item':i})\n",
      "\n",
      "nodes = batch.submit()\n",
      "\n",
      "for i in range(0,25):\n",
      "#    batch.create(rel(i, \"conoce\", 25-i))\n",
      "    gdb.get_or_create_relationships((i, \"sigue\", 24-i))\n",
      "\n",
      "rels = batch.submit()"
     ],
     "language": "python",
     "metadata": {},
     "outputs": [],
     "prompt_number": 34
    },
    {
     "cell_type": "code",
     "collapsed": false,
     "input": [],
     "language": "python",
     "metadata": {},
     "outputs": [],
     "prompt_number": 21
    },
    {
     "cell_type": "code",
     "collapsed": false,
     "input": [],
     "language": "python",
     "metadata": {},
     "outputs": []
    }
   ],
   "metadata": {}
  }
 ]
}