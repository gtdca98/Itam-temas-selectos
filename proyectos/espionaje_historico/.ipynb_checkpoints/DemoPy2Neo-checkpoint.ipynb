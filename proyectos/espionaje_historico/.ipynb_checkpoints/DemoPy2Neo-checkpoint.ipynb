{
 "metadata": {
  "name": ""
 },
 "nbformat": 3,
 "nbformat_minor": 0,
 "worksheets": [
  {
   "cells": [
    {
     "cell_type": "markdown",
     "metadata": {},
     "source": [
      "#\u00bfPorqu\u00e9 `py2neo`?\n",
      "_Espionaje hist\u00f3rico_ requiere manipulaciones de strings y joins sobre los datos de _DBpedia_ que son f\u00e1ciles de hacer con m\u00e9todos de `python`. La librer\u00eda `py2neo` permite cerrar el c\u00edrculo con `neo4j` ya que brinda acceso a la base de datos gr\u00e1fica por medio de procesos batch ejecutables desde `python`. A continuaci\u00f3n una demostraci\u00f3n:\n",
      "\n",
      "**Nota:**  para correr la demo con una base vac\u00eda, en la consola de [`neo4j`](http://localhost:7474/webadmin/#) hay que correr el shell script `DELDBNEO4J.sh` elaborado por Gabriel del Campo. Hay otras opciones para limpiar la base pero necesariamente se deshacen de las relaciones correctamente:\n",
      "\n",
      "`MATCH (n)`\n",
      "`OPTIONAL MATCH (n)-[r]-()`\n",
      "`DELETE n,r;`\n",
      "\n",
      "Luego de ejecutar el siguiente segmento de abajo en `python`, en el data browser de `neo4j` hay que ingresar el query:\n",
      "\n",
      "`START n=node(*) MATCH (n)-[r]->(m) RETURN n, r, m;`"
     ]
    },
    {
     "cell_type": "code",
     "collapsed": false,
     "input": [
      "from py2neo import neo4j, node, rel\n",
      "\n",
      "gdb = neo4j.GraphDatabaseService()\n",
      "batch = neo4j.WriteBatch(gdb)\n",
      "\n",
      "for i in range(0,25):\n",
      "#    batch.get_or_create_indexed_node(i,'item',i,{'item':i})\n",
      "    batch.create({'Sujeto':'nombre de sujeto ' + str(i), \n",
      "                  'Atributo1':'atributo 1 de sujeto' + str(i)})\n",
      "    batch.create((i, \"knows\", 24-i, {'since':2014}))\n",
      "\n",
      "results = batch.submit()"
     ],
     "language": "python",
     "metadata": {},
     "outputs": [],
     "prompt_number": 4
    },
    {
     "cell_type": "markdown",
     "metadata": {},
     "source": [
      "El indexamiento de los nodos se puede complicar en el caso de DBpedia debido al volumen de informaci\u00f3n, la recurrencia de nodos, etc. El siguiente es un ejemplo un poco m\u00e1s elaborado donde se parte de una serie aleatoria de relaciones que luego se convierte en una red.  "
     ]
    },
    {
     "cell_type": "code",
     "collapsed": false,
     "input": [
      "from random import randint\n",
      "from string import ascii_lowercase\n",
      "from py2neo import neo4j, node, rel\n",
      "\n",
      "gdb = neo4j.GraphDatabaseService()\n",
      "batch = neo4j.WriteBatch(gdb)\n",
      "\n",
      "#print len(ascii_lowercase)\n",
      "#print ascii_lowercase[25]\n",
      "\n",
      "abc = ascii_lowercase\n",
      "\n",
      "rels = ['rel1', 'rel2', 'rel3']\n",
      "\n",
      "for i in range(0, 25):\n",
      "    batch.create({'item':abc[i]})\n",
      "\n",
      "for i in range(0, 15):\n",
      "    rnd_x = randint(0,25)\n",
      "    rnd_y = randint(0,25)\n",
      "    rnd_z = randint(0,2)\n",
      "    print 'Crear relaci\u00f3n '+ rels[rnd_z] +' de ' + str(rnd_x) + ' a ' + str(rnd_y)\n",
      "    batch.create((rnd_x, rels[rnd_z], rnd_y))\n",
      "    batch.create((rnd_x, rels[rnd_z], rnd_y))\n",
      "    \n",
      "results = batch.submit()"
     ],
     "language": "python",
     "metadata": {},
     "outputs": [
      {
       "output_type": "stream",
       "stream": "stdout",
       "text": [
        "Crear relaci\u00f3n rel1 de 15 a 20\n",
        "Crear relaci\u00f3n rel2 de 6 a 19\n",
        "Crear relaci\u00f3n rel2 de 20 a 8\n",
        "Crear relaci\u00f3n rel2 de 22 a 14\n",
        "Crear relaci\u00f3n rel2 de 20 a 4\n",
        "Crear relaci\u00f3n rel1 de 22 a 11\n",
        "Crear relaci\u00f3n rel1 de 13 a 14\n",
        "Crear relaci\u00f3n rel2 de 25 a 6\n",
        "Crear relaci\u00f3n rel3 de 23 a 1\n",
        "Crear relaci\u00f3n rel3 de 21 a 6\n",
        "Crear relaci\u00f3n rel1 de 5 a 11\n",
        "Crear relaci\u00f3n rel1 de 21 a 2\n",
        "Crear relaci\u00f3n rel2 de 14 a 21\n",
        "Crear relaci\u00f3n rel2 de 12 a 16\n",
        "Crear relaci\u00f3n rel2 de 24 a 9\n"
       ]
      }
     ],
     "prompt_number": 10
    },
    {
     "cell_type": "code",
     "collapsed": false,
     "input": [],
     "language": "python",
     "metadata": {},
     "outputs": [],
     "prompt_number": 4
    },
    {
     "cell_type": "code",
     "collapsed": false,
     "input": [
      "rels[1]"
     ],
     "language": "python",
     "metadata": {},
     "outputs": [
      {
       "metadata": {},
       "output_type": "pyout",
       "prompt_number": 5,
       "text": [
        "'rel2'"
       ]
      }
     ],
     "prompt_number": 5
    },
    {
     "cell_type": "code",
     "collapsed": false,
     "input": [],
     "language": "python",
     "metadata": {},
     "outputs": []
    }
   ],
   "metadata": {}
  }
 ]
}